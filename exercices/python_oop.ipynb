{
 "cells": [
  {
   "cell_type": "markdown",
   "metadata": {},
   "source": [
    "## Exercise 1:\n",
    "\n",
    "- consedering the following code\n",
    "\n",
    "```python\n",
    "import datetime # we will use this for date objects\n",
    "\n",
    "class Person:\n",
    "\n",
    "    def __init__(self, name, surname, birthdate, address, telephone, email):\n",
    "        self.name = name\n",
    "        self.surname = surname\n",
    "        self.birthdate = birthdate\n",
    "\n",
    "        self.address = address\n",
    "        self.telephone = telephone\n",
    "        self.email = email\n",
    "\n",
    "    def age(self):\n",
    "        today = datetime.date.today()\n",
    "        age = today.year - self.birthdate.year\n",
    "\n",
    "        if today < datetime.date(today.year, self.birthdate.month, self.birthdate.day):\n",
    "            age -= 1\n",
    "\n",
    "        return age\n",
    "\n",
    "person = Person(\n",
    "    \"Jane\",\n",
    "    \"Doe\",\n",
    "    datetime.date(1992, 3, 12), # year, month, day\n",
    "    \"No. 12 Short Street, Greenville\",\n",
    "    \"555 456 0987\",\n",
    "    \"jane.doe@example.com\"\n",
    ")\n",
    "\n",
    "print(person.name)\n",
    "print(person.email)\n",
    "print(person.age())\n",
    "```\n",
    "Explain what the following variables refer to, and their scope:\n",
    "1. Person\n",
    "2. person\n",
    "3. surname\n",
    "4. self\n",
    "5. age (the function name)\n",
    "6. age (the variable used inside the function)\n",
    "7. self.email\n",
    "8. person.email"
   ]
  },
  {
   "cell_type": "markdown",
   "metadata": {},
   "source": [
    "### write your answer here\n",
    "1.  ...\n",
    "2.  ...\n",
    "3.  ...\n",
    "4.  ... \n",
    "5.  ...\n",
    "6.  ...\n",
    "7.  ...\n",
    "8.  ..."
   ]
  },
  {
   "cell_type": "markdown",
   "metadata": {},
   "source": [
    "## Exercise 2\n",
    "1. Rewrite the `Person` class so that a person’s age is calculated for the first time when a new person instance is created, and recalculated (when it is requested) if the day has changed since the last time that it was calculated."
   ]
  },
  {
   "cell_type": "code",
   "execution_count": null,
   "metadata": {
    "collapsed": true
   },
   "outputs": [],
   "source": [
    "import datetime # we will use this for date objects\n",
    "\n",
    "class Person:\n",
    "    \n",
    "     \n",
    "        def __init__(self, name, surname, birthdate, address, telephone, email):\n",
    "                self.name = name\n",
    "                \n",
    "                self.surname = surname\n",
    "                self.birthdate = birthdate\n",
    "\n",
    "                self.address = address\n",
    "                self.telephone = telephone\n",
    "                self.email = email\n",
    "                \n",
    "                self.x= person.age()\n",
    "                \n",
    "        def age(self):\n",
    "            today = datetime.date.today()\n",
    "            age = today.year - self.birthdate.year\n",
    "\n",
    "            if today < datetime.date(today.year, self.birthdate.month, self.birthdate.day):\n",
    "                age -= 1\n",
    "            return age\n",
    "\n",
    "\n",
    "\n",
    "\n",
    "\n",
    "       \n",
    "person = Person(\n",
    "    \"Jane\",\n",
    "    \"Doe\",\n",
    "    datetime.date(1992, 3, 12), # year, month, day\n",
    "    \"No. 12 Short Street, Greenville\",\n",
    "    \"555 456 0987\",\n",
    "    \"jane.doe@example.com\"\n",
    ")        \n",
    "print(person.x)\n",
    "\n",
    "\n"
   ]
  },
  {
   "cell_type": "markdown",
   "metadata": {},
   "source": [
    "## Exercise 3\n",
    "1. Explain the differences between the attributes `name`, `surname` and `profession`, and what values they can have in different instances of this class:\n",
    "```python\n",
    "class Smith:\n",
    "    surname = \"Smith\"\n",
    "    profession = \"smith\"\n",
    "\n",
    "    def __init__(self, name, profession=None):\n",
    "        self.name = name\n",
    "        if profession is not None:\n",
    "            self.profession = profession\n",
    "```"
   ]
  },
  {
   "cell_type": "code",
   "execution_count": 29,
   "metadata": {},
   "outputs": [
    {
     "name": "stdout",
     "output_type": "stream",
     "text": [
      "smith\n"
     ]
    }
   ],
   "source": [
    "class Smith:\n",
    " surname = \"Smith\"\n",
    " profession = \"smith\"\n",
    "\n",
    " def __init__(self, name, profession=None):\n",
    "     self.name = name\n",
    "     if profession is not None:\n",
    "         self.profession = profession\n",
    "            \n",
    "someone=Smith(\"me\")\n",
    "print(someone.profession)\n",
    "\n",
    "#the name is a standard property of the class,\n",
    "#surname is a property with fixed value,\n",
    "#profession is a property with default value but can be set to another value"
   ]
  },
  {
   "cell_type": "markdown",
   "metadata": {},
   "source": [
    "## Exercise 4:\n",
    "1. Create a class called `Numbers`, which has a single class attribute called `MULTIPLIER`, and a constructor which takes the parameters `x` and `y` (these should all be numbers).\n",
    "    1. Write a method called `add` which returns the sum of the attributes `x` and `y`.\n",
    "    2. Write a class method called `multiply`, which takes a single number parameter `a` and returns the product of `a` and `MULTIPLIER`.\n",
    "    3. Write a static method called `subtract`, which takes two number parameters, `b` and `c`, and returns `b - c`.\n",
    "    4. Write a method called `value` which returns a tuple containing the values of `x` and `y`. Make this method into a property, and write a setter and a deleter for manipulating the values of `x` and `y`."
   ]
  },
  {
   "cell_type": "code",
   "execution_count": 11,
   "metadata": {
    "collapsed": true
   },
   "outputs": [
    {
     "name": "stdout",
     "output_type": "stream",
     "text": [
      "setting\n",
      "(4, 4)\n",
      "getting the tuple values\n",
      "(4, 4)\n",
      "deleting the tuple values\n",
      "getting the tuple values\n"
     ]
    },
    {
     "ename": "AttributeError",
     "evalue": "'Numbers' object has no attribute 'x'",
     "output_type": "error",
     "traceback": [
      "\u001b[0;31m---------------------------------------------------------------------------\u001b[0m",
      "\u001b[0;31mAttributeError\u001b[0m                            Traceback (most recent call last)",
      "\u001b[0;32m/var/folders/cw/0t2jzw0d1dg1rj3qj57z9_qh0000gn/T/ipykernel_897/2501924649.py\u001b[0m in \u001b[0;36m<module>\u001b[0;34m\u001b[0m\n\u001b[1;32m     38\u001b[0m \u001b[0mprint\u001b[0m\u001b[0;34m(\u001b[0m\u001b[0mp\u001b[0m\u001b[0;34m.\u001b[0m\u001b[0mvalue\u001b[0m\u001b[0;34m)\u001b[0m\u001b[0;34m\u001b[0m\u001b[0;34m\u001b[0m\u001b[0m\n\u001b[1;32m     39\u001b[0m \u001b[0;32mdel\u001b[0m \u001b[0mp\u001b[0m\u001b[0;34m.\u001b[0m\u001b[0mvalue\u001b[0m\u001b[0;34m\u001b[0m\u001b[0;34m\u001b[0m\u001b[0m\n\u001b[0;32m---> 40\u001b[0;31m \u001b[0mprint\u001b[0m\u001b[0;34m(\u001b[0m\u001b[0mp\u001b[0m\u001b[0;34m.\u001b[0m\u001b[0mvalue\u001b[0m\u001b[0;34m)\u001b[0m\u001b[0;34m\u001b[0m\u001b[0;34m\u001b[0m\u001b[0m\n\u001b[0m\u001b[1;32m     41\u001b[0m \u001b[0;34m\u001b[0m\u001b[0m\n\u001b[1;32m     42\u001b[0m \u001b[0;34m\u001b[0m\u001b[0m\n",
      "\u001b[0;32m/var/folders/cw/0t2jzw0d1dg1rj3qj57z9_qh0000gn/T/ipykernel_897/2501924649.py\u001b[0m in \u001b[0;36mgetter\u001b[0;34m(self)\u001b[0m\n\u001b[1;32m     19\u001b[0m     \u001b[0;32mdef\u001b[0m \u001b[0mgetter\u001b[0m\u001b[0;34m(\u001b[0m\u001b[0mself\u001b[0m\u001b[0;34m)\u001b[0m\u001b[0;34m:\u001b[0m\u001b[0;34m\u001b[0m\u001b[0;34m\u001b[0m\u001b[0m\n\u001b[1;32m     20\u001b[0m         \u001b[0mprint\u001b[0m\u001b[0;34m(\u001b[0m\u001b[0;34m\"getting the tuple values\"\u001b[0m\u001b[0;34m)\u001b[0m\u001b[0;34m\u001b[0m\u001b[0;34m\u001b[0m\u001b[0m\n\u001b[0;32m---> 21\u001b[0;31m         \u001b[0;32mreturn\u001b[0m \u001b[0mself\u001b[0m\u001b[0;34m.\u001b[0m\u001b[0mx\u001b[0m\u001b[0;34m,\u001b[0m\u001b[0mself\u001b[0m\u001b[0;34m.\u001b[0m\u001b[0my\u001b[0m\u001b[0;34m\u001b[0m\u001b[0;34m\u001b[0m\u001b[0m\n\u001b[0m\u001b[1;32m     22\u001b[0m \u001b[0;34m\u001b[0m\u001b[0m\n\u001b[1;32m     23\u001b[0m     \u001b[0;32mdef\u001b[0m \u001b[0msetter\u001b[0m\u001b[0;34m(\u001b[0m\u001b[0mself\u001b[0m\u001b[0;34m,\u001b[0m\u001b[0mvalueX\u001b[0m\u001b[0;34m,\u001b[0m\u001b[0mvalueY\u001b[0m\u001b[0;34m)\u001b[0m\u001b[0;34m:\u001b[0m\u001b[0;34m\u001b[0m\u001b[0;34m\u001b[0m\u001b[0m\n",
      "\u001b[0;31mAttributeError\u001b[0m: 'Numbers' object has no attribute 'x'"
     ]
    }
   ],
   "source": [
    "class Numbers:\n",
    "    MULTIPLIER = 6\n",
    "    \n",
    "    def __init__(self,x,y):\n",
    "        self.x = x\n",
    "        self.y = y\n",
    "        \n",
    "    def add(self):\n",
    "        return self.x+self.y\n",
    "    \n",
    "    @classmethod\n",
    "    def multiply(cls,a):\n",
    "        return (cls,MULTIPLIER * a)\n",
    "    \n",
    "    @staticmethod\n",
    "    def substract(b,c):\n",
    "        return b-c\n",
    "    \n",
    "    \n",
    "    def getter(self):\n",
    "        print(\"getting the tuple values\")\n",
    "        return self.x,self.y\n",
    "    \n",
    "    def setter(self,valueX,valueY):\n",
    "        print(\"setting\")\n",
    "        self.x=valueX\n",
    "        self.y=valueY\n",
    "        return self.x,self.y\n",
    "    \n",
    "    def deleter(self):\n",
    "        print(\"deleting the tuple values\")\n",
    "        del self.x\n",
    "        del self.y\n",
    "    \n",
    "    value=property(getter,setter,deleter,\"value property\")\n",
    "    \n",
    "p=Numbers(3,5)\n",
    "print(p.setter(4,4))\n",
    "print(p.value)\n",
    "del p.value\n",
    "print(p.value)\n",
    "        \n",
    "        \n",
    "    \n",
    "        "
   ]
  },
  {
   "cell_type": "markdown",
   "metadata": {},
   "source": [
    "# Exercise 5:\n",
    "1. Create an instance of the `Person` class from example 2. Use the `dir` function on the instance. Then use the `dir` function on the class.\n",
    "    1. What happens if you call the `__str__` method on the instance? Verify that you get the same result if you call the `str` function with the instance as a parameter.\n",
    "    2. What is the type of the instance?\n",
    "    3. What is the type of the class?\n",
    "    4. Write a function which prints out the names and values of all the custom attributes of any object that is passed in as a parameter."
   ]
  },
  {
   "cell_type": "code",
   "execution_count": 20,
   "metadata": {},
   "outputs": [
    {
     "name": "stdout",
     "output_type": "stream",
     "text": [
      "['__class__', '__delattr__', '__dict__', '__dir__', '__doc__', '__eq__', '__format__', '__ge__', '__getattribute__', '__gt__', '__hash__', '__init__', '__init_subclass__', '__le__', '__lt__', '__module__', '__ne__', '__new__', '__reduce__', '__reduce_ex__', '__repr__', '__setattr__', '__sizeof__', '__str__', '__subclasshook__', '__weakref__', 'address', 'age', 'birthdate', 'email', 'name', 'surname', 'telephone']\n",
      "<class 'list'>\n",
      "['__class__', '__delattr__', '__dict__', '__dir__', '__doc__', '__eq__', '__format__', '__ge__', '__getattribute__', '__gt__', '__hash__', '__init__', '__init_subclass__', '__le__', '__lt__', '__module__', '__ne__', '__new__', '__reduce__', '__reduce_ex__', '__repr__', '__setattr__', '__sizeof__', '__str__', '__subclasshook__', '__weakref__', 'age']\n",
      "<class 'list'>\n"
     ]
    }
   ],
   "source": [
    "import datetime # we will use this for date objects\n",
    "\n",
    "class Person:\n",
    "\n",
    "    def __init__(self, name, surname, birthdate, address, telephone, email):\n",
    "        self.name = name\n",
    "        self.surname = surname\n",
    "        self.birthdate = birthdate\n",
    "\n",
    "        self.address = address\n",
    "        self.telephone = telephone\n",
    "        self.email = email\n",
    "\n",
    "    def age(self):\n",
    "        today = datetime.date.today()\n",
    "        age = today.year - self.birthdate.year\n",
    "\n",
    "        if today < datetime.date(today.year, self.birthdate.month, self.birthdate.day):\n",
    "            age -= 1\n",
    "\n",
    "        return age\n",
    "    \n",
    "me=Person(\"hajar\"\n",
    "          ,\"lamtaai\"\n",
    "          ,datetime.date(2002, 9, 25)\n",
    "          ,\"marrakech\",\"0645510251\",\"h.lam@gmail.com\")\n",
    "\n",
    "print(dir(me))\n",
    "print(type(dir(me)))\n",
    "\n",
    "print(dir(Person))\n",
    "print(type(dir(Person)))\n",
    "\n"
   ]
  },
  {
   "cell_type": "markdown",
   "metadata": {},
   "source": [
    "## Exercise 6:\n",
    "Write a class for creating completely generic objects: its `__init__` function should accept any number of keyword parameters, and set them on the object as attributes with the keys as names. Write a `__str__` method for the class – the string it returns should include the name of the class and the values of all the object’s custom instance attributes."
   ]
  },
  {
   "cell_type": "code",
   "execution_count": null,
   "metadata": {},
   "outputs": [],
   "source": []
  }
 ],
 "metadata": {
  "kernelspec": {
   "display_name": "Python 3 (ipykernel)",
   "language": "python",
   "name": "python3"
  },
  "language_info": {
   "codemirror_mode": {
    "name": "ipython",
    "version": 3
   },
   "file_extension": ".py",
   "mimetype": "text/x-python",
   "name": "python",
   "nbconvert_exporter": "python",
   "pygments_lexer": "ipython3",
   "version": "3.9.6"
  }
 },
 "nbformat": 4,
 "nbformat_minor": 2
}
