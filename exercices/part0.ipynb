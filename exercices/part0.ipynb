{
 "cells": [
  {
   "cell_type": "markdown",
   "id": "66a0a543",
   "metadata": {},
   "source": [
    "# Python Basic Exercises"
   ]
  },
  {
   "cell_type": "markdown",
   "id": "0c1cd8ec",
   "metadata": {},
   "source": [
    "## Exercise 0:\n",
    "\n",
    "create a program that take a name from a user and print hello with the name of the user.\n",
    "- Example:\n",
    "\n",
    "``` input: Hamid```\n",
    "\n",
    "```output: Hello Hamid```\n"
   ]
  },
  {
   "cell_type": "code",
   "execution_count": 1,
   "id": "b9fe2983",
   "metadata": {},
   "outputs": [
    {
     "name": "stdout",
     "output_type": "stream",
     "text": [
      "Enter your name ghfghjfgg\n",
      "hello ghfghjfgg\n"
     ]
    }
   ],
   "source": [
    "name = input(\"Enter your name \")\n",
    "print(\"hello\", name)"
   ]
  },
  {
   "cell_type": "markdown",
   "id": "4884c029",
   "metadata": {},
   "source": [
    "## Exercise 1:\n",
    "\n",
    "write a program that take a string from a user, and print the string with capitalize the vowels letters {a, o, u, i, e}.\n",
    "\n",
    "**Example:**\n",
    "\n",
    "`hello world`\n",
    "\n",
    "**output:**\n",
    "\n",
    "`hEllO wOrld`"
   ]
  },
  {
   "cell_type": "code",
   "execution_count": 2,
   "id": "a3f8d6f4",
   "metadata": {},
   "outputs": [
    {
     "name": "stdout",
     "output_type": "stream",
     "text": [
      "t E s t "
     ]
    }
   ],
   "source": [
    "# your code goes here\n",
    "def cap_vow(a):\n",
    "    for i in a:\n",
    "        if i in \"aouie\":\n",
    "            print(i.upper(), end = ' ')\n",
    "        else:\n",
    "            print(i, end = ' ')\n",
    "cap_vow('test')"
   ]
  },
  {
   "cell_type": "markdown",
   "id": "ab24c130",
   "metadata": {},
   "source": [
    "## Exercise 2:\n",
    "\n",
    "create a program that take a two numbers from a user and print their sum and multiplication.\n",
    "- Example:\n",
    "\n",
    "```\n",
    "input 1: 3\n",
    "input 2: 4\n",
    "```\n",
    "\n",
    "```\n",
    "program output:\n",
    "\n",
    "multiplication of 3 and 4 is 12\n",
    "sum of 3 and 4 is 7\n",
    "```\n"
   ]
  },
  {
   "cell_type": "code",
   "execution_count": 19,
   "id": "08a81476",
   "metadata": {},
   "outputs": [
    {
     "name": "stdout",
     "output_type": "stream",
     "text": [
      "enter the first number3\n",
      "enter the secon input4\n",
      "multiplication of 3 and 4 is 12\n",
      "sum of 3 and 4 is 7\n"
     ]
    }
   ],
   "source": [
    "# write your program here\n",
    "# ....\n",
    "x=int(input(\"enter the first number: \"))\n",
    "y=int(input(\"enter the secon input: \"))\n",
    "\n",
    "print(\"multiplication of\",x,\"and\",y, \"is\",x*y)\n",
    "print(\"sum of\",x,\"and\",y,\"is\",x+y)\n",
    "\n"
   ]
  },
  {
   "cell_type": "markdown",
   "id": "42cfa564",
   "metadata": {},
   "source": [
    "## Exercise 3: \n",
    "\n",
    "Display three string “Name”, “Is”, “James” as “Name**Is**James”\n",
    "\n",
    "Use the print() function to format the given words in the mentioned format. Display the ** separator between each string.\n",
    "\n",
    "**Expected Output:**\n",
    "\n",
    "For example: print('Name', 'Is', 'James') will display Name**Is**James"
   ]
  },
  {
   "cell_type": "code",
   "execution_count": 5,
   "id": "4c4b071b",
   "metadata": {},
   "outputs": [
    {
     "name": "stdout",
     "output_type": "stream",
     "text": [
      "NameIsJames\n"
     ]
    }
   ],
   "source": [
    "def display(st1,st2,st3):\n",
    "    print(st1+st2+st3)\n",
    "display(\"Name\",\"Is\",\"James\")\n"
   ]
  },
  {
   "cell_type": "markdown",
   "id": "df1581eb",
   "metadata": {},
   "source": [
    "## Exercise 4:\n",
    "\n",
    "Print First 10 natural numbers using while loop\n",
    "\n",
    "*Expected output:*\n",
    "```\n",
    "1\n",
    "2\n",
    "3\n",
    "4\n",
    "5\n",
    "6\n",
    "7\n",
    "8\n",
    "9\n",
    "10\n",
    "```"
   ]
  },
  {
   "cell_type": "code",
   "execution_count": 6,
   "id": "bf55b679",
   "metadata": {},
   "outputs": [
    {
     "name": "stdout",
     "output_type": "stream",
     "text": [
      "1\n",
      "2\n",
      "3\n",
      "4\n",
      "5\n",
      "6\n",
      "7\n",
      "8\n",
      "9\n",
      "10\n"
     ]
    }
   ],
   "source": [
    "i=1\n",
    "while i<=10:\n",
    "    print(i)\n",
    "    i+=1\n",
    "    "
   ]
  },
  {
   "cell_type": "markdown",
   "id": "7cffa172",
   "metadata": {},
   "source": [
    "## Exercise 5:\n",
    "\n",
    "Write a program to print the following number pattern using a loop.\n",
    "```\n",
    "1 \n",
    "1 2 \n",
    "1 2 3 \n",
    "1 2 3 4 \n",
    "1 2 3 4 5\n",
    "```"
   ]
  },
  {
   "cell_type": "code",
   "execution_count": 31,
   "id": "cdb3264a",
   "metadata": {},
   "outputs": [
    {
     "name": "stdout",
     "output_type": "stream",
     "text": [
      "1 \n",
      "\n",
      "1 2 \n",
      "\n",
      "1 2 3 \n",
      "\n",
      "1 2 3 4 \n",
      "\n",
      "1 2 3 4 5 \n",
      "\n"
     ]
    }
   ],
   "source": [
    "for i in range(1,6):\n",
    "    for j in range(1,i+1):\n",
    "        print(j,end=\" \")\n",
    "    print(\"\\n\")\n",
    "    \n",
    "        \n",
    "        "
   ]
  },
  {
   "cell_type": "markdown",
   "id": "d2b20a44",
   "metadata": {},
   "source": [
    "## Exercise 5:\n",
    "- write a program that take a number from the user and print the multiplication table of that number.\n",
    "\n",
    "** Example:**\n",
    "5\n",
    "```\n",
    "1 * 5 = 5\n",
    "2 * 5 = 10\n",
    "...\n",
    "12 * 5 = 60\n",
    "```"
   ]
  },
  {
   "cell_type": "code",
   "execution_count": 32,
   "id": "f5350502",
   "metadata": {},
   "outputs": [
    {
     "name": "stdout",
     "output_type": "stream",
     "text": [
      "enter a number5\n",
      "1 * 5 =  5\n",
      "2 * 5 =  10\n",
      "3 * 5 =  15\n",
      "4 * 5 =  20\n",
      "5 * 5 =  25\n",
      "6 * 5 =  30\n",
      "7 * 5 =  35\n",
      "8 * 5 =  40\n",
      "9 * 5 =  45\n",
      "10 * 5 =  50\n",
      "11 * 5 =  55\n",
      "12 * 5 =  60\n"
     ]
    }
   ],
   "source": [
    "x=int(input(\"enter a number\"))\n",
    "for i in range(1,13):\n",
    "    print(i,\"* 5 = \",i*5)"
   ]
  },
  {
   "cell_type": "markdown",
   "id": "16fedacf",
   "metadata": {},
   "source": [
    "## Exercise 6: Calculate the multiplication and sum of two numbers"
   ]
  },
  {
   "cell_type": "markdown",
   "id": "6d5db219",
   "metadata": {},
   "source": [
    "Given two integer numbers return their product only if the product is greater than 100, else return their sum.\n",
    "\n",
    "- given 1:\n",
    "```python\n",
    "number1 = 20\n",
    "number2 = 30\n",
    "```\n",
    "- output:\n",
    "```\n",
    "The result is 600\n",
    "```\n",
    "- given 2:\n",
    "```python\n",
    "number1 = 40\n",
    "number2 = 30\n",
    "```\n",
    "- output:\n",
    "```\n",
    "The result is 70\n",
    "```"
   ]
  },
  {
   "cell_type": "code",
   "execution_count": 35,
   "id": "792fc9d7",
   "metadata": {},
   "outputs": [
    {
     "name": "stdout",
     "output_type": "stream",
     "text": [
      "enter a number20\n",
      "enter an other number30\n",
      "50\n"
     ]
    }
   ],
   "source": [
    "number1=(int(input(\"enter a number\")))\n",
    "number2=(int(input(\"enter an other number\")))\n",
    "if (number1*number2 > 1000):\n",
    "    print(\"the result is \", number1*number2)\n",
    "else:\n",
    "    print(number1+number2)\n",
    "    "
   ]
  },
  {
   "cell_type": "markdown",
   "id": "7be4b877",
   "metadata": {},
   "source": [
    "## Exercise 5:\n",
    "\n",
    "Check if the first and last number of a list is the same\n",
    "Write a function to return `True` if the first and last number of a given list is same. If numbers are different then return `False`.\n",
    "\n",
    "**Given:**\n",
    "```python\n",
    "numbers_x = [10, 20, 30, 40, 10]\n",
    "numbers_y = [75, 65, 35, 75, 30]\n",
    "```\n",
    "\n",
    "**Expected Output:**\n",
    "```\n",
    "Given list: [10, 20, 30, 40, 10]\n",
    "result is True\n",
    "\n",
    "numbers_y = [75, 65, 35, 75, 30]\n",
    "result is False\n",
    "```"
   ]
  },
  {
   "cell_type": "code",
   "execution_count": 36,
   "id": "ad2ecb8e",
   "metadata": {},
   "outputs": [
    {
     "data": {
      "text/plain": [
       "False"
      ]
     },
     "execution_count": 36,
     "metadata": {},
     "output_type": "execute_result"
    }
   ],
   "source": [
    "def check(numbers_x,numbers_y):\n",
    "    if numbers_x[0]==numbers_y[0]:\n",
    "        return True\n",
    "    else:\n",
    "        return False\n",
    "check( [10, 20, 30, 40, 10],[75, 65, 35, 75, 30])"
   ]
  }
 ],
 "metadata": {
  "kernelspec": {
   "display_name": "Python 3 (ipykernel)",
   "language": "python",
   "name": "python3"
  },
  "language_info": {
   "codemirror_mode": {
    "name": "ipython",
    "version": 3
   },
   "file_extension": ".py",
   "mimetype": "text/x-python",
   "name": "python",
   "nbconvert_exporter": "python",
   "pygments_lexer": "ipython3",
   "version": "3.9.6"
  }
 },
 "nbformat": 4,
 "nbformat_minor": 5
}
