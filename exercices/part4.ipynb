{
 "cells": [
  {
   "cell_type": "markdown",
   "id": "47a096ce",
   "metadata": {},
   "source": [
    "### Exercice 1:"
   ]
  },
  {
   "cell_type": "markdown",
   "id": "f4977bb9",
   "metadata": {},
   "source": [
    "Write a Python class named square constructed by a length and two methods which will compute the area and the perimeter of the square."
   ]
  },
  {
   "cell_type": "code",
   "execution_count": 3,
   "id": "48a899aa",
   "metadata": {},
   "outputs": [],
   "source": [
    "class square:\n",
    "    #define your methods\n",
    "    def __init__(self,lenght):\n",
    "        self.lenght=lenght\n",
    "    def area(self):\n",
    "        return self.lenght**2\n",
    "    def primeter(self):\n",
    "        return self.lenght*2\n",
    "    pass"
   ]
  },
  {
   "cell_type": "markdown",
   "id": "63d320bf",
   "metadata": {},
   "source": [
    "### Exercice 2:"
   ]
  },
  {
   "cell_type": "markdown",
   "id": "2ac6a965",
   "metadata": {},
   "source": [
    "Write a python class rectangle that inherits from the square class."
   ]
  },
  {
   "cell_type": "code",
   "execution_count": 13,
   "id": "007adc0d",
   "metadata": {},
   "outputs": [
    {
     "name": "stdout",
     "output_type": "stream",
     "text": [
      "7\n"
     ]
    }
   ],
   "source": [
    "class rectangle(square):\n",
    "        #__init__ method only\n",
    "        def __init__(self,lenght, width):\n",
    "            super().__init__(lenght)\n",
    "            self.width = width\n",
    "            \n",
    "        pass\n",
    "r=rectangle(7, 2)\n",
    "print(r.lenght)"
   ]
  },
  {
   "cell_type": "markdown",
   "id": "14d9d504",
   "metadata": {},
   "source": [
    "### Exercice 3:"
   ]
  },
  {
   "cell_type": "markdown",
   "id": "048585b9",
   "metadata": {},
   "source": [
    "Use python decorators to make the above code works"
   ]
  },
  {
   "cell_type": "code",
   "execution_count": 3,
   "id": "46dd0e2e",
   "metadata": {},
   "outputs": [
    {
     "name": "stdout",
     "output_type": "stream",
     "text": [
      "3\n",
      "23\n"
     ]
    }
   ],
   "source": [
    "class SampleClass:\n",
    "\n",
    "    def __init__(self, a):\n",
    "        # private varibale in Python\n",
    "        self.__a = a\n",
    "    def get_a(self):\n",
    "        print(self.__a)\n",
    "\n",
    "x = SampleClass(3)\n",
    "x.get_a()\n",
    "\n",
    "x.a = 23\n",
    "print(x.a)\n"
   ]
  }
 ],
 "metadata": {
  "kernelspec": {
   "display_name": "Python 3 (ipykernel)",
   "language": "python",
   "name": "python3"
  },
  "language_info": {
   "codemirror_mode": {
    "name": "ipython",
    "version": 3
   },
   "file_extension": ".py",
   "mimetype": "text/x-python",
   "name": "python",
   "nbconvert_exporter": "python",
   "pygments_lexer": "ipython3",
   "version": "3.9.6"
  }
 },
 "nbformat": 4,
 "nbformat_minor": 5
}
